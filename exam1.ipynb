{
  "cells": [
    {
      "cell_type": "markdown",
      "metadata": {
        "id": "view-in-github",
        "colab_type": "text"
      },
      "source": [
        "<a href=\"https://colab.research.google.com/github/vannicc/CCDATRCL_EXAM_COM221/blob/main/exam1.ipynb\" target=\"_parent\"><img src=\"https://colab.research.google.com/assets/colab-badge.svg\" alt=\"Open In Colab\"/></a>"
      ]
    },
    {
      "cell_type": "markdown",
      "metadata": {
        "id": "yaz2B0KGFehP"
      },
      "source": [
        "# Midterm Exam 💛💙"
      ]
    },
    {
      "cell_type": "markdown",
      "metadata": {
        "id": "_DmK1ONEFehQ"
      },
      "source": [
        "**Instructions** ❗️❗️\n",
        "\n",
        "❌ Do not remove or modify the notebook **sections**, **subsections**, **exam questions** or **any text** in this python notebook\n",
        "\n",
        "✔️ Put your answer in the designated cells below each question"
      ]
    },
    {
      "cell_type": "markdown",
      "metadata": {
        "id": "TMCAXKWCFehR"
      },
      "source": [
        "## Search"
      ]
    },
    {
      "cell_type": "code",
      "execution_count": 90,
      "metadata": {
        "id": "Fy8nEBRRFehR"
      },
      "outputs": [],
      "source": [
        "def linearSearch(my_list, number):\n",
        "\n",
        "    index = 0\n",
        "\n",
        "    for i in my_list:\n",
        "\n",
        "        if my_list[index] == number:\n",
        "            return index\n",
        "\n",
        "        index = index + 1\n",
        "\n",
        "    return -1"
      ]
    },
    {
      "cell_type": "markdown",
      "metadata": {
        "id": "AjAevpueFehS"
      },
      "source": [
        "1. Using **linear search**, write a `findLargestIncrease()` function to find the largest increase in value between two adjacent numbers in your student number `(10 points)`\n",
        "\n",
        "    **Example:**\n",
        "\n",
        "    student_number = [2,0,2,2,6,2,5,1,9,3]\n",
        "\n",
        "    **Expected Output:**\n",
        "\n",
        "    findLargestIncrease(student_number)\n",
        "\n",
        "    Output: Between 1 and 9\n",
        "\n",
        "    **Explanation:**\n",
        "\n",
        "    From this student_number, the largest increase happened from number 1 to number 9"
      ]
    },
    {
      "cell_type": "code",
      "execution_count": 231,
      "metadata": {
        "colab": {
          "base_uri": "https://localhost:8080/"
        },
        "id": "JE8nEfyJFehS",
        "outputId": "1331aac1-76ea-4fce-cf6b-97fa7f37c05a"
      },
      "outputs": [
        {
          "output_type": "stream",
          "name": "stdout",
          "text": [
            "Between  2  and  5\n"
          ]
        }
      ],
      "source": [
        "# put your answer here\n",
        "student_number = [2,0,2,2,1,0,2,2,5,6]\n",
        "\n",
        "def findLargestIncrease(array):\n",
        "  arr = []\n",
        "  a = 0\n",
        "  b = 1\n",
        "  while b != len(array):\n",
        "    diff = array[a] - array[b]\n",
        "    arr.append(diff)\n",
        "    a = a + 1\n",
        "    b = b + 1\n",
        "\n",
        "  maxIncrease = min(arr)\n",
        "  o = 0\n",
        "  p = 1\n",
        "  for j in array:\n",
        "    while p != len(array):\n",
        "        if (array[o] - array[p]) == maxIncrease:\n",
        "          print(\"Between \", array[o], \" and \", array[p])\n",
        "        o = o + 1\n",
        "        p = p + 1\n",
        "\n",
        "findLargestIncrease(student_number)"
      ]
    },
    {
      "cell_type": "markdown",
      "metadata": {
        "id": "nMyr1fNyFehS"
      },
      "source": [
        "2. Using **linear search**, write a `findLargestDecrease()` function to find the largest decrease in value between two adjacent numbers in your student number `(10 points)`\n",
        "\n",
        "    **Example:**\n",
        "\n",
        "    student_number = [2,0,2,2,6,2,5,1,9,3]\n",
        "\n",
        "    **Expected Output:**\n",
        "\n",
        "    findLargestDecrease(student_number)\n",
        "\n",
        "    Output: Between 9 and 3\n",
        "\n",
        "    **Explanation:**\n",
        "\n",
        "    From this student_number, the largest decrease happened from number 9 to number 3"
      ]
    },
    {
      "cell_type": "code",
      "execution_count": 232,
      "metadata": {
        "id": "bfMfQVbVFehS",
        "colab": {
          "base_uri": "https://localhost:8080/"
        },
        "outputId": "e800dddb-dc5a-443a-884c-7f76fc6712f5"
      },
      "outputs": [
        {
          "output_type": "stream",
          "name": "stdout",
          "text": [
            "Between  2  and  0\n"
          ]
        }
      ],
      "source": [
        "# put your answer here\n",
        "student_number = [2,0,2,2,1,0,2,2,5,6]\n",
        "\n",
        "def findLargestDecrease(array):\n",
        "  arr = []\n",
        "  a = 0\n",
        "  b = 1\n",
        "  while b != len(array):\n",
        "    diff = array[a] - array[b]\n",
        "    arr.append(diff)\n",
        "    a = a + 1\n",
        "    b = b + 1\n",
        "\n",
        "  maxDecrease = max(arr)\n",
        "  o = 0\n",
        "  p = 1\n",
        "  for j in array:\n",
        "    while p != len(array):\n",
        "        if (array[o] - array[p]) == maxDecrease:\n",
        "          print(\"Between \", array[o], \" and \", array[p])\n",
        "        o = o + 1\n",
        "        p = p + 1\n",
        "\n",
        "findLargestDecrease(student_number)"
      ]
    },
    {
      "cell_type": "markdown",
      "metadata": {
        "id": "NtKSQn9QFehS"
      },
      "source": [
        "## Linked List"
      ]
    },
    {
      "cell_type": "code",
      "execution_count": 250,
      "metadata": {
        "id": "0HP5zyJcFehS"
      },
      "outputs": [],
      "source": [
        "class Node:\n",
        "\n",
        "    def __init__(self, data):\n",
        "        self.data = data\n",
        "        self.next = None  # null"
      ]
    },
    {
      "cell_type": "code",
      "execution_count": 251,
      "metadata": {
        "id": "A-8Uefe7FehS"
      },
      "outputs": [],
      "source": [
        "class LinkedList:\n",
        "\n",
        "    def __init__(self):\n",
        "        self.head = None\n",
        "\n",
        "    def traverse(self, node):\n",
        "        while node:\n",
        "            print(node.data, end=\" -> \")\n",
        "            node = node.next"
      ]
    },
    {
      "cell_type": "markdown",
      "metadata": {
        "id": "uPgIJJuSFehT"
      },
      "source": [
        "**Instructions** ❗️❗️\n",
        "\n",
        "Use the pre-defined linked list class/functions to create a linked list"
      ]
    },
    {
      "cell_type": "markdown",
      "metadata": {
        "id": "WIwpW7Q2FehT"
      },
      "source": [
        "1. Create a Singly linked list named **num_list** and print all of its elements. `(5 points)`\n",
        "\n",
        "- **num_list** should contain all digits of your student number.\n",
        "\n",
        "    **Expected Output:**\n",
        "\n",
        "    print(num_list)\n",
        "\n",
        "    [2, 0, 2, 2, 1, 2, 3, 4, 5, 6]"
      ]
    },
    {
      "cell_type": "code",
      "execution_count": 268,
      "metadata": {
        "colab": {
          "base_uri": "https://localhost:8080/"
        },
        "id": "Lihv0JPiFehT",
        "outputId": "4b4a9c4a-acb5-4540-c62b-f454d8730efa"
      },
      "outputs": [
        {
          "output_type": "stream",
          "name": "stdout",
          "text": [
            "2 -> 0 -> 2 -> 2 -> 1 -> 0 -> 2 -> 2 -> 5 -> 6 -> "
          ]
        }
      ],
      "source": [
        "# put your answer here\n",
        "\n",
        "num_list = LinkedList()\n",
        "\n",
        "num_list.head = Node(2)\n",
        "node_b = Node(0)\n",
        "node_c = Node(2)\n",
        "node_d = Node(2)\n",
        "node_e = Node(1)\n",
        "node_f = Node(0)\n",
        "node_g = Node(2)\n",
        "node_h = Node(2)\n",
        "node_i = Node(5)\n",
        "node_j = Node(6)\n",
        "\n",
        "num_list.head.next = node_b\n",
        "node_b.next = node_c\n",
        "node_c.next = node_d\n",
        "node_d.next = node_e\n",
        "node_e.next = node_f\n",
        "node_f.next = node_g\n",
        "node_g.next = node_h\n",
        "node_h.next = node_i\n",
        "node_i.next = node_j\n",
        "\n",
        "num_list.traverse(num_list.head)"
      ]
    },
    {
      "cell_type": "markdown",
      "metadata": {
        "id": "dqA2UYrYFehT"
      },
      "source": [
        "2. Write a `hasPrime()` function to test whether a prime number is in the last six digits of **num_list**. `(5 points)`\n",
        "\n",
        "- If a prime number is in the last six digits of **num_list**, the method should return **true**\n",
        "\n",
        "- If a prime number is not in the last six digits of **num_list**, the method should return **false**\n",
        "\n",
        "    **Expected Output:**\n",
        "\n",
        "    hasPrime(num_list)\n",
        "\n",
        "    True"
      ]
    },
    {
      "cell_type": "code",
      "execution_count": 259,
      "metadata": {
        "id": "GYwsQNz5FehT",
        "colab": {
          "base_uri": "https://localhost:8080/"
        },
        "outputId": "1c82fff8-e921-4e68-c685-c62d493a5102"
      },
      "outputs": [
        {
          "output_type": "execute_result",
          "data": {
            "text/plain": [
              "True"
            ]
          },
          "metadata": {},
          "execution_count": 259
        }
      ],
      "source": [
        "# put your answer here\n",
        "def checkPrime(num):\n",
        "    if num > 1:\n",
        "        for i in range(2, int(num/2)+1):\n",
        "          if (num % i) == 0:\n",
        "            return False\n",
        "            break\n",
        "          else:\n",
        "            return True\n",
        "    else:\n",
        "        return False\n",
        "\n",
        "def hasPrime(linked_list):\n",
        "  current_node = linked_list.head\n",
        "  studentNum = []\n",
        "\n",
        "  while len(studentNum) < 10 and current_node:\n",
        "      studentNum.append(current_node.data)\n",
        "      current_node = current_node.next\n",
        "\n",
        "  for digit in studentNum[4:]:\n",
        "      if checkPrime(digit):\n",
        "        return True\n",
        "  return False\n",
        "\n",
        "hasPrime(num_list)"
      ]
    },
    {
      "cell_type": "markdown",
      "metadata": {
        "id": "5Qb0BOiwFehT"
      },
      "source": [
        "3. Write a `removeZeroes()` function to remove all occurrences of zeroes in **num_list**. `(5 points)`\n",
        "\n",
        "- If a zero is in **num_list**, return **num_list**\n",
        "\n",
        "- If there are no zeroes in **num_list**, return **\"no zeros found\"**\n",
        "\n",
        "    **Expected Output:**\n",
        "\n",
        "    removeZeroes(num_list)\n",
        "\n",
        "    [2, 2, 1, 2, 3, 4, 5, 6]"
      ]
    },
    {
      "cell_type": "code",
      "execution_count": 266,
      "metadata": {
        "id": "k1vAHUYuFehT",
        "colab": {
          "base_uri": "https://localhost:8080/"
        },
        "outputId": "208ba3aa-a7af-4309-df82-94f767bb7705"
      },
      "outputs": [
        {
          "output_type": "stream",
          "name": "stdout",
          "text": [
            "2 -> 2 -> 2 -> 1 -> 2 -> 2 -> 5 -> 6 -> "
          ]
        }
      ],
      "source": [
        "# put your answer here\n",
        "def removeZeroes(linked_list):\n",
        "  temp = linked_list.head\n",
        "  prev = None\n",
        "\n",
        "  while temp:\n",
        "    if temp.data == 0:\n",
        "        if prev is None:\n",
        "            linked_list.head = temp.next\n",
        "            temp = linked_list.head\n",
        "        else:\n",
        "            prev.next = temp.next\n",
        "            temp = temp.next\n",
        "    else:\n",
        "        prev = temp\n",
        "        temp = temp.next\n",
        "\n",
        "  if linked_list.head is None:\n",
        "      return \"Linked list has no zeroes\"\n",
        "  else:\n",
        "      return linked_list.traverse(linked_list.head)\n",
        "\n",
        "removeZeroes(num_list)"
      ]
    },
    {
      "cell_type": "markdown",
      "metadata": {
        "id": "SKAlpglNFehT"
      },
      "source": [
        "4. Insert a dash symbol between the 4th and 5th digit in **num_list**. `(5 points)`\n",
        "\n",
        "    **Expected Output:**\n",
        "\n",
        "    print(num_list)\n",
        "\n",
        "    [2, 0, 2, 2, \"-\", 1, 2, 3, 4, 5, 6]"
      ]
    },
    {
      "cell_type": "code",
      "execution_count": 269,
      "metadata": {
        "id": "vF7fimZ-FehT",
        "colab": {
          "base_uri": "https://localhost:8080/"
        },
        "outputId": "b0e948f8-08b8-4c7f-eab9-409e4a25eac4"
      },
      "outputs": [
        {
          "output_type": "stream",
          "name": "stdout",
          "text": [
            "2 -> 0 -> 2 -> 2 -> - -> 1 -> 0 -> 2 -> 2 -> 5 -> 6 -> "
          ]
        }
      ],
      "source": [
        "# put your answer here\n",
        "def addDash(linked_list):\n",
        "      if not linked_list.head:\n",
        "          return\n",
        "\n",
        "      current = linked_list.head\n",
        "      count = 0\n",
        "\n",
        "      while current:\n",
        "          if count == 3:\n",
        "            new_node = Node('-')\n",
        "            new_node.next = current.next\n",
        "            current.next = new_node\n",
        "            break\n",
        "\n",
        "          current = current.next\n",
        "          count += 1\n",
        "      return linked_list.traverse(linked_list.head)\n",
        "\n",
        "addDash(num_list)"
      ]
    },
    {
      "cell_type": "markdown",
      "metadata": {
        "id": "KkC-LgdxFehT"
      },
      "source": [
        "## Stack"
      ]
    },
    {
      "cell_type": "code",
      "execution_count": 99,
      "metadata": {
        "id": "UYTqB1u_FehU"
      },
      "outputs": [],
      "source": [
        "# Creating a stack\n",
        "def create_stack():\n",
        "    stack = []\n",
        "    return stack\n",
        "\n",
        "\n",
        "def print_stack(stack):\n",
        "\n",
        "    if (check_empty(stack)):\n",
        "        return \"stack is empty\"\n",
        "\n",
        "    # Create a copy of the stack and reverse the elements\n",
        "    tempStack = stack.copy()\n",
        "    tempStack.reverse()\n",
        "\n",
        "    # Print all elements using a loop\n",
        "    for i in tempStack:\n",
        "        print(i)\n",
        "\n",
        "    # Delete the copy to free up memory\n",
        "    del tempStack\n",
        "\n",
        "# Creating an empty stack\n",
        "def check_empty(stack):\n",
        "    return len(stack) == 0\n",
        "\n",
        "\n",
        "# Adding items into the stack\n",
        "def push(stack, item):\n",
        "    stack.append(item)\n",
        "    print(\"pushed item: \", item)\n",
        "\n",
        "\n",
        "# Removing an element from the stack\n",
        "def pop(stack):\n",
        "    if (check_empty(stack)):\n",
        "        return \"stack is empty\"\n",
        "\n",
        "    return stack.pop()\n",
        "\n",
        "\n",
        "def peek(stack):\n",
        "\n",
        "    # Use negative indexing to display the last element of the list\n",
        "    print(stack[-1])"
      ]
    },
    {
      "cell_type": "markdown",
      "metadata": {
        "id": "wLAQchs8FehU"
      },
      "source": [
        "**Instructions** ❗️❗️\n",
        "\n",
        "Use the pre-defined stack class/functions to create a stack"
      ]
    },
    {
      "cell_type": "markdown",
      "metadata": {
        "id": "37cg9BoCFehU"
      },
      "source": [
        "1. Create two (2) stacks named **name_stack** and **num_stack** `(5 points)`\n",
        "\n",
        "- **name_stack** should contain all letters of your first name.\n",
        "- **num_stack** should contain all digits of your student number.\n",
        "\n",
        "    **Expected Output:**\n",
        "\n",
        "    print(name_stack)\n",
        "\n",
        "    ['E', 'L', 'I', 'Z', 'E', 'R']\n",
        "\n",
        "    print(num_stack)\n",
        "\n",
        "    [2,0,2,2,1,2,3,4,5,6]"
      ]
    },
    {
      "cell_type": "code",
      "execution_count": 120,
      "metadata": {
        "colab": {
          "base_uri": "https://localhost:8080/"
        },
        "id": "HlUIUQzQFehU",
        "outputId": "d2435e8d-cc98-4057-e1e3-5cb5fdef6876"
      },
      "outputs": [
        {
          "output_type": "stream",
          "name": "stdout",
          "text": [
            "pushed item:  J\n",
            "pushed item:  E\n",
            "pushed item:  R\n",
            "pushed item:  I\n",
            "pushed item:  C\n",
            "pushed item:  O\n",
            "\n",
            "Output :\n",
            "['J', 'E', 'R', 'I', 'C', 'O']\n",
            "\n",
            "\n",
            "pushed item:  2\n",
            "pushed item:  0\n",
            "pushed item:  2\n",
            "pushed item:  2\n",
            "pushed item:  1\n",
            "pushed item:  0\n",
            "pushed item:  2\n",
            "pushed item:  2\n",
            "pushed item:  5\n",
            "pushed item:  6\n",
            "\n",
            "Output :\n",
            "[2, 0, 2, 2, 1, 0, 2, 2, 5, 6]\n"
          ]
        }
      ],
      "source": [
        "# put your answer here\n",
        "name_stack = create_stack()\n",
        "push(name_stack, 'J')\n",
        "push(name_stack, 'E')\n",
        "push(name_stack, 'R')\n",
        "push(name_stack, 'I')\n",
        "push(name_stack, 'C')\n",
        "push(name_stack, 'O')\n",
        "print('\\nOutput :')\n",
        "print(name_stack)\n",
        "print('\\n')\n",
        "\n",
        "num_stack = create_stack()\n",
        "push(num_stack, 2)\n",
        "push(num_stack, 0)\n",
        "push(num_stack, 2)\n",
        "push(num_stack, 2)\n",
        "push(num_stack, 1)\n",
        "push(num_stack, 0)\n",
        "push(num_stack, 2)\n",
        "push(num_stack, 2)\n",
        "push(num_stack, 5)\n",
        "push(num_stack, 6)\n",
        "print('\\nOutput :')\n",
        "print(num_stack)"
      ]
    },
    {
      "cell_type": "markdown",
      "metadata": {
        "id": "8cySe9LXFehU"
      },
      "source": [
        "2. Create a stack named **my_stack** that follows the following format: `(5 points)`\n",
        "\n",
        "- The first element should be the **5th digit in your student number**\n",
        "- The succeeding elements should be the letters of your **first name**\n",
        "- The last element should be the **last digit of your student number**\n",
        "\n",
        "    **Expected Output:**\n",
        "\n",
        "    my_stack = [1, E, L, I, Z, E, R, 6]"
      ]
    },
    {
      "cell_type": "code",
      "execution_count": 122,
      "metadata": {
        "colab": {
          "base_uri": "https://localhost:8080/"
        },
        "id": "bEnCoAhjFehU",
        "outputId": "efbdf853-ca93-48cb-e8c4-65b6a0726281"
      },
      "outputs": [
        {
          "output_type": "stream",
          "name": "stdout",
          "text": [
            "pushed item:  1\n",
            "pushed item:  J\n",
            "pushed item:  E\n",
            "pushed item:  R\n",
            "pushed item:  I\n",
            "pushed item:  C\n",
            "pushed item:  O\n",
            "pushed item:  6\n",
            "[1, 'J', 'E', 'R', 'I', 'C', 'O', 6]\n"
          ]
        }
      ],
      "source": [
        "# put your answer here\n",
        "my_stack = create_stack()\n",
        "push(my_stack, 1)\n",
        "push(my_stack, 'J')\n",
        "push(my_stack, 'E')\n",
        "push(my_stack, 'R')\n",
        "push(my_stack, 'I')\n",
        "push(my_stack, 'C')\n",
        "push(my_stack, 'O')\n",
        "push(my_stack, 6)\n",
        "print(my_stack)"
      ]
    },
    {
      "cell_type": "markdown",
      "metadata": {
        "id": "8a8_KP5nFehU"
      },
      "source": [
        "3. Write a `verifyStack()` function that will take in `my_stack` and check if its format has been followed `(10 points)`\n",
        "\n",
        "- Return **True** if the format has been followed\n",
        "- Return **False** if the format was not followed\n",
        "- Verify the format by checking the contents of **my_stack** with **name_stack** and **num_stack**\n",
        "\n",
        "    **Expected Output:**\n",
        "\n",
        "    my_stack = [1, E, L, I, Z, E, R, 6]\n",
        "\n",
        "    verifyStack(my_stack)\n",
        "\n",
        "    True\n",
        "\n",
        "    my_stack = [1, S, L, I, Z, E, R, 7]\n",
        "\n",
        "    verifyStack(my_stack)\n",
        "\n",
        "    False"
      ]
    },
    {
      "cell_type": "code",
      "execution_count": 125,
      "metadata": {
        "colab": {
          "base_uri": "https://localhost:8080/"
        },
        "id": "RdANSxD0FehU",
        "outputId": "20cbca73-fbc9-48f7-fc4f-e124a04c95e4"
      },
      "outputs": [
        {
          "output_type": "stream",
          "name": "stdout",
          "text": [
            "Original Stack:  [1, 'J', 'E', 'R', 'I', 'C', 'O', 8]\n",
            "['J', 'E', 'R', 'I', 'C', 'O']\n",
            "[2, 0, 2, 2, 1, 0, 2, 2, 5, 6]\n",
            "False\n",
            "pushed item:  1\n",
            "pushed item:  J\n",
            "pushed item:  E\n",
            "pushed item:  R\n",
            "pushed item:  I\n",
            "pushed item:  C\n",
            "pushed item:  O\n",
            "pushed item:  8\n",
            "New Stack:  [1, 'J', 'E', 'R', 'I', 'C', 'O', 8]\n",
            "['J', 'E', 'R', 'I', 'C', 'O']\n",
            "[2, 0, 2, 2, 1, 0, 2, 2, 5, 6]\n"
          ]
        },
        {
          "output_type": "execute_result",
          "data": {
            "text/plain": [
              "False"
            ]
          },
          "metadata": {},
          "execution_count": 125
        }
      ],
      "source": [
        "# put your answer here\n",
        "def verifyStack(stack):\n",
        "  name_stack\n",
        "  num_stack\n",
        "  a = 1\n",
        "  if my_stack[0] == num_stack[4] and my_stack[-1] == num_stack[-1]:\n",
        "    isValid = True\n",
        "    for i in name_stack:\n",
        "      if i == my_stack[a]:\n",
        "        isValid = True\n",
        "        a += 1\n",
        "  else:\n",
        "    isValid = False\n",
        "  return isValid\n",
        "\n",
        "print('Original Stack: ', my_stack)\n",
        "print(verifyStack(my_stack))\n",
        "my_stack = create_stack()\n",
        "push(my_stack, 1)\n",
        "push(my_stack, 'J')\n",
        "push(my_stack, 'E')\n",
        "push(my_stack, 'R')\n",
        "push(my_stack, 'I')\n",
        "push(my_stack, 'C')\n",
        "push(my_stack, 'O')\n",
        "push(my_stack, 8)\n",
        "print('New Stack: ', my_stack)\n",
        "verifyStack(my_stack)"
      ]
    },
    {
      "cell_type": "markdown",
      "metadata": {
        "id": "UC5C64B2FehU"
      },
      "source": [
        "## Queue"
      ]
    },
    {
      "cell_type": "code",
      "execution_count": 103,
      "metadata": {
        "id": "NJJ0j0LHFehU"
      },
      "outputs": [],
      "source": [
        "class Queue:\n",
        "    def __init__(self):\n",
        "        self.queue = []\n",
        "\n",
        "    # Add an element\n",
        "    def enqueue(self, item):\n",
        "        self.queue.append(item)\n",
        "\n",
        "    # Remove an element\n",
        "    def dequeue(self):\n",
        "        if len(self.queue) < 1:\n",
        "            return None\n",
        "        return self.queue.pop(0)\n",
        "\n",
        "    # Display  the queue\n",
        "    def display(self):\n",
        "        print(self.queue)\n",
        "\n",
        "    def size(self):\n",
        "        return len(self.queue)\n",
        "\n",
        "    def peek(self):\n",
        "        return self.queue[0]"
      ]
    },
    {
      "cell_type": "markdown",
      "metadata": {
        "id": "80OekpbeFehV"
      },
      "source": [
        "**Instructions** ❗️❗️\n",
        "\n",
        "Use the pre-defined queue class/functions to create a Queue"
      ]
    },
    {
      "cell_type": "markdown",
      "metadata": {
        "id": "_Hf0OP5cFehV"
      },
      "source": [
        "1. Create a simple queue named **num_queue** `(5 points)`\n",
        "\n",
        "- **num_queue** should contain all digits of your student number.\n",
        "\n",
        "    **Expected Output:**\n",
        "\n",
        "    print(num_queue)\n",
        "\n",
        "    [2,0,2,2,1,2,3,4,5,6]"
      ]
    },
    {
      "cell_type": "code",
      "execution_count": 114,
      "metadata": {
        "id": "_mgmE4ArFehV",
        "colab": {
          "base_uri": "https://localhost:8080/"
        },
        "outputId": "68b3fb6c-efd8-4ee1-a451-b2799666b2f2"
      },
      "outputs": [
        {
          "output_type": "stream",
          "name": "stdout",
          "text": [
            "[2, 0, 2, 2, 1, 0, 2, 2, 5, 6]\n"
          ]
        }
      ],
      "source": [
        "# put your answer here\n",
        "num_queue = Queue()\n",
        "\n",
        "num_queue.enqueue(2)\n",
        "num_queue.enqueue(0)\n",
        "num_queue.enqueue(2)\n",
        "num_queue.enqueue(2)\n",
        "num_queue.enqueue(1)\n",
        "num_queue.enqueue(0)\n",
        "num_queue.enqueue(2)\n",
        "num_queue.enqueue(2)\n",
        "num_queue.enqueue(5)\n",
        "num_queue.enqueue(6)\n",
        "\n",
        "num_queue.display()"
      ]
    },
    {
      "cell_type": "markdown",
      "metadata": {
        "id": "1pHG8t6DFehV"
      },
      "source": [
        "2. Write a `getMax()` or `getMin()` function for **num_queue** `(5 points)`\n",
        "\n",
        "- If your student number ends with an odd number, create a `getMax()` function that will return the largest number in **num_queue**\n",
        "- If your student number ends with an even number, create a `getMin()` function that will return the lowest number in **num_queue**\n",
        "\n",
        "    **Expected Output for getMax():**\n",
        "\n",
        "    getMax(num_queue)\n",
        "\n",
        "    6\n",
        "\n",
        "    **Expected Output for getMin():**\n",
        "\n",
        "    getMin(num_queue)\n",
        "\n",
        "    0"
      ]
    },
    {
      "cell_type": "code",
      "execution_count": 105,
      "metadata": {
        "id": "itj2U610FehV",
        "colab": {
          "base_uri": "https://localhost:8080/"
        },
        "outputId": "cd569f35-6f99-4c82-bb4a-db4c024b7c72"
      },
      "outputs": [
        {
          "output_type": "execute_result",
          "data": {
            "text/plain": [
              "0"
            ]
          },
          "metadata": {},
          "execution_count": 105
        }
      ],
      "source": [
        "# put your answer here\n",
        "def getMin(num_queue):\n",
        "  temp_list = []\n",
        "  while num_queue.size() != 0:\n",
        "    tempx = num_queue.dequeue()\n",
        "    temp_list.append(tempx)\n",
        "  return min(temp_list)\n",
        "\n",
        "getMin(num_queue)"
      ]
    },
    {
      "cell_type": "markdown",
      "metadata": {
        "id": "YkgmP6GwFehV"
      },
      "source": [
        "3. Write a `getOdd()` or `getEven()` function for  **num_queue** `(5 points)`\n",
        "\n",
        "- If your student number ends with an **odd number**, create a `getOdd()` function that will return all odd numbers in **num_queue**\n",
        "- If your student number ends with an **even number**, create a `getEven()` function that will return all even numbers in **num_queue**\n",
        "\n",
        "    **Expected Output for getOdd():**\n",
        "\n",
        "    getOdd(num_queue)\n",
        "\n",
        "    [1, 3, 5]\n",
        "\n",
        "    **Expected Output for getEven():**\n",
        "\n",
        "    getEven(num_queue)\n",
        "\n",
        "    [0, 2, 4, 6]"
      ]
    },
    {
      "cell_type": "code",
      "execution_count": 112,
      "metadata": {
        "id": "2Bc7E1zNFehV",
        "colab": {
          "base_uri": "https://localhost:8080/"
        },
        "outputId": "1ec3a936-6c63-4ba2-ae5c-52fac80e6ac7"
      },
      "outputs": [
        {
          "output_type": "execute_result",
          "data": {
            "text/plain": [
              "[0, 0, 2, 2, 2, 2, 2, 6]"
            ]
          },
          "metadata": {},
          "execution_count": 112
        }
      ],
      "source": [
        "# put your answer here\n",
        "def getEven(num_queue):\n",
        "  temp_list = []\n",
        "  while num_queue.size() != 0:\n",
        "    temp = num_queue.dequeue()\n",
        "    if temp % 2 == 0:\n",
        "      temp_list.append(temp)\n",
        "  return sorted(temp_list)\n",
        "\n",
        "getEven(num_queue)"
      ]
    },
    {
      "cell_type": "markdown",
      "metadata": {
        "id": "kuzWF5g4FehV"
      },
      "source": [
        "4. Write a `removeDup()` function that will remove all duplicates in **num_queue** `(5 points)`\n",
        "\n",
        "    **Expected Output:**\n",
        "\n",
        "    removeDup(num_queue)\n",
        "\n",
        "    [2,0,1,3,4,5,6]"
      ]
    },
    {
      "cell_type": "code",
      "execution_count": 115,
      "metadata": {
        "id": "I8LeQP8MFehY",
        "colab": {
          "base_uri": "https://localhost:8080/"
        },
        "outputId": "8d36e1fd-50a1-4b4a-9c3e-8c0ae5fab263"
      },
      "outputs": [
        {
          "output_type": "execute_result",
          "data": {
            "text/plain": [
              "[2, 0, 1, 5, 6]"
            ]
          },
          "metadata": {},
          "execution_count": 115
        }
      ],
      "source": [
        "# put your answer here\n",
        "def removeDup(num_queue):\n",
        "  temp_list = []\n",
        "  while num_queue.size() > 0:\n",
        "    temp = num_queue.dequeue()\n",
        "    if temp not in temp_list:\n",
        "      temp_list.append(temp)\n",
        "\n",
        "  return temp_list\n",
        "\n",
        "removeDup(num_queue)"
      ]
    },
    {
      "cell_type": "markdown",
      "metadata": {
        "id": "LVfZTh8YFehZ"
      },
      "source": [
        "## Sort"
      ]
    },
    {
      "cell_type": "markdown",
      "metadata": {
        "id": "bm9lonfzFehZ"
      },
      "source": [
        "**Instructions** ❗️❗️\n",
        "\n",
        "Use the any sorting algoritms"
      ]
    },
    {
      "cell_type": "markdown",
      "metadata": {
        "id": "EJTlxhEdFehZ"
      },
      "source": [
        "1. Using any sorting algorithm, sort the **last 6 digits** of your student number in ascending order `(5 points)`\n",
        "\n",
        "    **Example:**\n",
        "\n",
        "    student_number = [2,0,2,2,6,2,5,1,3,4]\n",
        "\n",
        "    **Expected Output:**\n",
        "\n",
        "    print(student_number)\n",
        "\n",
        "    [2,0,2,2,1,2,3,4,5,6]\n"
      ]
    },
    {
      "cell_type": "code",
      "execution_count": 108,
      "metadata": {
        "id": "MkZKfveOFehZ",
        "colab": {
          "base_uri": "https://localhost:8080/"
        },
        "outputId": "608d09b6-d357-4c27-dcab-036643f341fe"
      },
      "outputs": [
        {
          "output_type": "stream",
          "name": "stdout",
          "text": [
            "[2, 0, 2, 2, 0, 1, 2, 2, 5, 6]\n"
          ]
        }
      ],
      "source": [
        "# put your answer here\n",
        "def bubbleSort(array):\n",
        "\n",
        "  for i in range(len(array)):\n",
        "\n",
        "    for j in range(4, len(array) - i - 1):\n",
        "\n",
        "      if array[j] > array[j + 1]:\n",
        "\n",
        "        temp = array[j]\n",
        "        array[j] = array[j+1]\n",
        "        array[j+1] = temp\n",
        "\n",
        "student_number = [2, 0, 2, 2, 1, 0, 2, 2, 5, 6]\n",
        "bubbleSort(student_number)\n",
        "\n",
        "print(student_number)"
      ]
    },
    {
      "cell_type": "markdown",
      "metadata": {
        "id": "sC2JZRZMFehZ"
      },
      "source": [
        "2. Using your student_number, separately sort the even numbers in **increasing order** and the odd numbers in **decreasing order** `(15 points)`\n",
        "\n",
        "    **Example:**\n",
        "\n",
        "    student_number = [2,0,2,2,1,2,3,4,5,6]\n",
        "\n",
        "    **Expected Output:**\n",
        "\n",
        "    print(student_number)\n",
        "\n",
        "    [0,2,2,2,2,4,6,5,3,1]"
      ]
    },
    {
      "cell_type": "code",
      "execution_count": 109,
      "metadata": {
        "id": "hWOh_ohcFehZ",
        "colab": {
          "base_uri": "https://localhost:8080/"
        },
        "outputId": "1c549ad3-64fd-41c2-8280-d89fc0fda466"
      },
      "outputs": [
        {
          "output_type": "stream",
          "name": "stdout",
          "text": [
            "[0, 0, 2, 2, 2, 2, 2, 6, 5, 1]\n"
          ]
        }
      ],
      "source": [
        "# put your answer here\n",
        "def bubbleSort(array):\n",
        "  even = []\n",
        "  odd = []\n",
        "  index = 0\n",
        "\n",
        "  while len(array) != 0:\n",
        "    remove = array.pop()\n",
        "    if remove % 2 == 0:\n",
        "      even.append(remove)\n",
        "    else:\n",
        "      odd.append(remove)\n",
        "\n",
        "  for i in range(len(even)):\n",
        "    for j in range(0, len(even) - i - 1):\n",
        "      if even[j] > even[j+1]:\n",
        "        temp_even = even[j]\n",
        "        even[j] = even[j+1]\n",
        "        even[j+1] = temp_even\n",
        "\n",
        "    for k in range(len(odd)):\n",
        "      for l in range(0, len(odd) - k - 1):\n",
        "        if odd[l] < odd[l+1]:\n",
        "          temp_odd = odd[l]\n",
        "          odd[l] = odd[l+1]\n",
        "          odd[l+1] = temp_odd\n",
        "\n",
        "  student_number.extend(even)\n",
        "  student_number.extend(odd)\n",
        "\n",
        "student_number = [2, 0, 2, 2, 1, 0, 2, 2, 5, 6]\n",
        "bubbleSort(student_number)\n",
        "\n",
        "print(student_number)"
      ]
    }
  ],
  "metadata": {
    "colab": {
      "provenance": [],
      "include_colab_link": true
    },
    "kernelspec": {
      "display_name": "Python 3",
      "language": "python",
      "name": "python3"
    },
    "language_info": {
      "codemirror_mode": {
        "name": "ipython",
        "version": 3
      },
      "file_extension": ".py",
      "mimetype": "text/x-python",
      "name": "python",
      "nbconvert_exporter": "python",
      "pygments_lexer": "ipython3",
      "version": "3.9.13"
    }
  },
  "nbformat": 4,
  "nbformat_minor": 0
}